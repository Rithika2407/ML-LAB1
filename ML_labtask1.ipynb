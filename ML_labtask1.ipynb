{
  "nbformat": 4,
  "nbformat_minor": 0,
  "metadata": {
    "colab": {
      "provenance": [],
      "authorship_tag": "ABX9TyMuMlT4xXaEExHKakodowSI",
      "include_colab_link": true
    },
    "kernelspec": {
      "name": "python3",
      "display_name": "Python 3"
    },
    "language_info": {
      "name": "python"
    }
  },
  "cells": [
    {
      "cell_type": "markdown",
      "metadata": {
        "id": "view-in-github",
        "colab_type": "text"
      },
      "source": [
        "<a href=\"https://colab.research.google.com/github/Rithika2407/ML-LAB1/blob/main/ML_labtask1.ipynb\" target=\"_parent\"><img src=\"https://colab.research.google.com/assets/colab-badge.svg\" alt=\"Open In Colab\"/></a>"
      ]
    },
    {
      "cell_type": "code",
      "execution_count": 1,
      "metadata": {
        "id": "ko7gEFUh6bx0"
      },
      "outputs": [],
      "source": [
        "#importing data\n",
        "import numpy as np\n",
        "import pandas as pd\n",
        "from google.colab import drive\n",
        "drive.mount('/content/drive')"
      ]
    },
    {
      "cell_type": "code",
      "source": [
        "Teams= pd.read_excel('/content/Teams.xlsx')\n",
        "Coaches=pd.read_excel(\"/content/Coaches.xlsx\")\n",
        "Athletes=pd.read_excel(\"/content/Athletes.xlsx\")\n",
        "Gender=pd.read_excel(\"/content/EntriesGender.xlsx\")\n",
        "Medals=pd.read_excel(\"/content/Medals.xlsx\")"
      ],
      "metadata": {
        "colab": {
          "base_uri": "https://localhost:8080/"
        },
        "id": "mClrid0n7Ddr",
        "outputId": "8e0d4bd5-55f0-4a70-c951-7388a1318d22"
      },
      "execution_count": 5,
      "outputs": [
        {
          "output_type": "stream",
          "name": "stderr",
          "text": [
            "/usr/local/lib/python3.10/dist-packages/openpyxl/styles/stylesheet.py:237: UserWarning: Workbook contains no default style, apply openpyxl's default\n",
            "  warn(\"Workbook contains no default style, apply openpyxl's default\")\n",
            "/usr/local/lib/python3.10/dist-packages/openpyxl/styles/stylesheet.py:237: UserWarning: Workbook contains no default style, apply openpyxl's default\n",
            "  warn(\"Workbook contains no default style, apply openpyxl's default\")\n"
          ]
        }
      ]
    },
    {
      "cell_type": "markdown",
      "source": [
        "Teams data"
      ],
      "metadata": {
        "id": "bq0pA3LC97II"
      }
    },
    {
      "cell_type": "markdown",
      "source": [
        "# New Section"
      ],
      "metadata": {
        "id": "Kq46GHgs9IAS"
      }
    },
    {
      "cell_type": "code",
      "source": [
        "print(Teams.head())\n",
        "print(\"Number of rows and columns are :\", Teams.shape)\n",
        "print()\n",
        "print( \"Info about Teams :\")\n",
        "print(Teams.info())\n",
        "print(\"Number of unique Team :\")\n",
        "print(Teams.nunique())\n",
        "print(\"number of duplicate rows :\" ,Teams.duplicated().sum())\n",
        "print()\n",
        "print(\"number of missing values : \" )\n",
        "print(Teams.isnull().sum())"
      ],
      "metadata": {
        "colab": {
          "base_uri": "https://localhost:8080/"
        },
        "id": "IVyW3_2f9-mv",
        "outputId": "6e16f891-b1e8-4441-f19a-d5fffc74b14e"
      },
      "execution_count": 6,
      "outputs": [
        {
          "output_type": "stream",
          "name": "stdout",
          "text": [
            "      Name      Discipline                         NOC  Event\n",
            "0  Belgium  3x3 Basketball                     Belgium    Men\n",
            "1    China  3x3 Basketball  People's Republic of China    Men\n",
            "2    China  3x3 Basketball  People's Republic of China  Women\n",
            "3   France  3x3 Basketball                      France  Women\n",
            "4    Italy  3x3 Basketball                       Italy  Women\n",
            "Number of rows and columns are : (743, 4)\n",
            "\n",
            "Info about Teams :\n",
            "<class 'pandas.core.frame.DataFrame'>\n",
            "RangeIndex: 743 entries, 0 to 742\n",
            "Data columns (total 4 columns):\n",
            " #   Column      Non-Null Count  Dtype \n",
            "---  ------      --------------  ----- \n",
            " 0   Name        743 non-null    object\n",
            " 1   Discipline  743 non-null    object\n",
            " 2   NOC         743 non-null    object\n",
            " 3   Event       743 non-null    object\n",
            "dtypes: object(4)\n",
            "memory usage: 23.3+ KB\n",
            "None\n",
            "Number of unique Team :\n",
            "Name          146\n",
            "Discipline     20\n",
            "NOC            84\n",
            "Event          36\n",
            "dtype: int64\n",
            "number of duplicate rows : 0\n",
            "\n",
            "number of missing values : \n",
            "Name          0\n",
            "Discipline    0\n",
            "NOC           0\n",
            "Event         0\n",
            "dtype: int64\n"
          ]
        }
      ]
    },
    {
      "cell_type": "markdown",
      "source": [
        "Coaches data"
      ],
      "metadata": {
        "id": "mSdxjHoM-O7M"
      }
    },
    {
      "cell_type": "code",
      "source": [
        "print(Coaches.head())\n",
        "print(\"Number of rows and columns are :\",Coaches.shape)\n",
        "print()\n",
        "print( \"Info about Coaches :\")\n",
        "print(Coaches.info())\n",
        "print(\"Number of unique Coaches :\")\n",
        "print(Coaches.nunique())\n",
        "print(\"number of duplicate rows :\" ,Coaches.duplicated().sum())\n",
        "print()\n",
        "print(\"number of missing values : \" )\n",
        "print(Coaches.isnull().sum())"
      ],
      "metadata": {
        "colab": {
          "base_uri": "https://localhost:8080/"
        },
        "id": "4FPMyjpG-Txd",
        "outputId": "e615758c-7457-4a82-91ec-a7b143f12d74"
      },
      "execution_count": 7,
      "outputs": [
        {
          "output_type": "stream",
          "name": "stdout",
          "text": [
            "              Name            NOC  Discipline Event\n",
            "0  ABDELMAGID Wael          Egypt    Football   NaN\n",
            "1        ABE Junya          Japan  Volleyball   NaN\n",
            "2    ABE Katsuhiko          Japan  Basketball   NaN\n",
            "3     ADAMA Cherif  Côte d'Ivoire    Football   NaN\n",
            "4       AGEBA Yuya          Japan  Volleyball   NaN\n",
            "Number of rows and columns are : (394, 4)\n",
            "\n",
            "Info about Coaches :\n",
            "<class 'pandas.core.frame.DataFrame'>\n",
            "RangeIndex: 394 entries, 0 to 393\n",
            "Data columns (total 4 columns):\n",
            " #   Column      Non-Null Count  Dtype \n",
            "---  ------      --------------  ----- \n",
            " 0   Name        394 non-null    object\n",
            " 1   NOC         394 non-null    object\n",
            " 2   Discipline  394 non-null    object\n",
            " 3   Event       249 non-null    object\n",
            "dtypes: object(4)\n",
            "memory usage: 12.4+ KB\n",
            "None\n",
            "Number of unique Coaches :\n",
            "Name          381\n",
            "NOC            61\n",
            "Discipline      9\n",
            "Event           6\n",
            "dtype: int64\n",
            "number of duplicate rows : 1\n",
            "\n",
            "number of missing values : \n",
            "Name            0\n",
            "NOC             0\n",
            "Discipline      0\n",
            "Event         145\n",
            "dtype: int64\n"
          ]
        }
      ]
    },
    {
      "cell_type": "markdown",
      "source": [
        "Athletes data"
      ],
      "metadata": {
        "id": "_tf6A42H-nbW"
      }
    },
    {
      "cell_type": "code",
      "source": [
        "print(Athletes.head())\n",
        "print(\"Number of rows and columns are :\",Athletes.shape)\n",
        "print()\n",
        "print( \"Info about Athletes :\")\n",
        "print(Athletes.info())\n",
        "print(\"Number of unique Athletes :\")\n",
        "print(Athletes.nunique())\n",
        "print(\"number of duplicate rows :\" ,Athletes.duplicated().sum())\n",
        "print()\n",
        "print(\"number of missing values : \" )\n",
        "print(Athletes.isnull().sum())"
      ],
      "metadata": {
        "colab": {
          "base_uri": "https://localhost:8080/"
        },
        "id": "wekrcxea-qLx",
        "outputId": "ec1a739c-9606-453c-f5af-9e1e42334965"
      },
      "execution_count": 8,
      "outputs": [
        {
          "output_type": "stream",
          "name": "stdout",
          "text": [
            "                Name     NOC           Discipline\n",
            "0    AALERUD Katrine  Norway         Cycling Road\n",
            "1        ABAD Nestor   Spain  Artistic Gymnastics\n",
            "2  ABAGNALE Giovanni   Italy               Rowing\n",
            "3     ABALDE Alberto   Spain           Basketball\n",
            "4      ABALDE Tamara   Spain           Basketball\n",
            "Number of rows and columns are : (11085, 3)\n",
            "\n",
            "Info about Athletes :\n",
            "<class 'pandas.core.frame.DataFrame'>\n",
            "RangeIndex: 11085 entries, 0 to 11084\n",
            "Data columns (total 3 columns):\n",
            " #   Column      Non-Null Count  Dtype \n",
            "---  ------      --------------  ----- \n",
            " 0   Name        11085 non-null  object\n",
            " 1   NOC         11085 non-null  object\n",
            " 2   Discipline  11085 non-null  object\n",
            "dtypes: object(3)\n",
            "memory usage: 259.9+ KB\n",
            "None\n",
            "Number of unique Athletes :\n",
            "Name          11062\n",
            "NOC             206\n",
            "Discipline       46\n",
            "dtype: int64\n",
            "number of duplicate rows : 1\n",
            "\n",
            "number of missing values : \n",
            "Name          0\n",
            "NOC           0\n",
            "Discipline    0\n",
            "dtype: int64\n"
          ]
        }
      ]
    },
    {
      "cell_type": "markdown",
      "source": [
        "EntriesGender_Data"
      ],
      "metadata": {
        "id": "zwoJOEtD-_F2"
      }
    },
    {
      "cell_type": "code",
      "source": [
        "print(Gender.head())\n",
        "print(\"Number of rows and columns are :\",Gender.shape)\n",
        "print()\n",
        "print( \"Info about EntriesGender :\")\n",
        "print(Gender.info())\n",
        "print(\"Number of unique EntriesGender:\")\n",
        "print(Gender.nunique())\n",
        "print(\"number of duplicate rows :\" ,Gender.duplicated().sum())\n",
        "print()\n",
        "print(\"number of missing values : \" )\n",
        "print(Gender.isnull().sum())"
      ],
      "metadata": {
        "colab": {
          "base_uri": "https://localhost:8080/"
        },
        "id": "z5-vRubJ_C-y",
        "outputId": "e9c9dadf-ecf6-4e09-ba1b-c664390825c9"
      },
      "execution_count": 9,
      "outputs": [
        {
          "output_type": "stream",
          "name": "stdout",
          "text": [
            "            Discipline  Female  Male  Total\n",
            "0       3x3 Basketball      32    32     64\n",
            "1              Archery      64    64    128\n",
            "2  Artistic Gymnastics      98    98    196\n",
            "3    Artistic Swimming     105     0    105\n",
            "4            Athletics     969  1072   2041\n",
            "Number of rows and columns are : (46, 4)\n",
            "\n",
            "Info about EntriesGender :\n",
            "<class 'pandas.core.frame.DataFrame'>\n",
            "RangeIndex: 46 entries, 0 to 45\n",
            "Data columns (total 4 columns):\n",
            " #   Column      Non-Null Count  Dtype \n",
            "---  ------      --------------  ----- \n",
            " 0   Discipline  46 non-null     object\n",
            " 1   Female      46 non-null     int64 \n",
            " 2   Male        46 non-null     int64 \n",
            " 3   Total       46 non-null     int64 \n",
            "dtypes: int64(3), object(1)\n",
            "memory usage: 1.6+ KB\n",
            "None\n",
            "Number of unique EntriesGender:\n",
            "Discipline    46\n",
            "Female        38\n",
            "Male          41\n",
            "Total         41\n",
            "dtype: int64\n",
            "number of duplicate rows : 0\n",
            "\n",
            "number of missing values : \n",
            "Discipline    0\n",
            "Female        0\n",
            "Male          0\n",
            "Total         0\n",
            "dtype: int64\n"
          ]
        }
      ]
    },
    {
      "cell_type": "markdown",
      "source": [
        "Medals data\n"
      ],
      "metadata": {
        "id": "5eT7QmBT_Te1"
      }
    },
    {
      "cell_type": "code",
      "source": [
        "print(Medals.head())\n",
        "print(\"Number of rows and columns are :\",Medals.shape)\n",
        "print()\n",
        "print( \"Info about Medals :\")\n",
        "print(Medals.info())\n",
        "print(\"Number of unique Medals:\")\n",
        "print(Medals.nunique())\n",
        "print(\"number of duplicate rows :\" ,Medals.duplicated().sum())\n",
        "print()\n",
        "print(\"number of missing values : \" )\n",
        "print(Medals.isnull().sum())"
      ],
      "metadata": {
        "colab": {
          "base_uri": "https://localhost:8080/"
        },
        "id": "LRCbRe4t_ccv",
        "outputId": "a4a63bfa-df66-45ac-d3a6-656a662c2e66"
      },
      "execution_count": 10,
      "outputs": [
        {
          "output_type": "stream",
          "name": "stdout",
          "text": [
            "   Rank                    Team/NOC  Gold  Silver  Bronze  Total  \\\n",
            "0     1    United States of America    39      41      33    113   \n",
            "1     2  People's Republic of China    38      32      18     88   \n",
            "2     3                       Japan    27      14      17     58   \n",
            "3     4               Great Britain    22      21      22     65   \n",
            "4     5                         ROC    20      28      23     71   \n",
            "\n",
            "   Rank by Total  \n",
            "0              1  \n",
            "1              2  \n",
            "2              5  \n",
            "3              4  \n",
            "4              3  \n",
            "Number of rows and columns are : (93, 7)\n",
            "\n",
            "Info about Medals :\n",
            "<class 'pandas.core.frame.DataFrame'>\n",
            "RangeIndex: 93 entries, 0 to 92\n",
            "Data columns (total 7 columns):\n",
            " #   Column         Non-Null Count  Dtype \n",
            "---  ------         --------------  ----- \n",
            " 0   Rank           93 non-null     int64 \n",
            " 1   Team/NOC       93 non-null     object\n",
            " 2   Gold           93 non-null     int64 \n",
            " 3   Silver         93 non-null     int64 \n",
            " 4   Bronze         93 non-null     int64 \n",
            " 5   Total          93 non-null     int64 \n",
            " 6   Rank by Total  93 non-null     int64 \n",
            "dtypes: int64(6), object(1)\n",
            "memory usage: 5.2+ KB\n",
            "None\n",
            "Number of unique Medals:\n",
            "Rank             67\n",
            "Team/NOC         93\n",
            "Gold             14\n",
            "Silver           17\n",
            "Bronze           21\n",
            "Total            30\n",
            "Rank by Total    30\n",
            "dtype: int64\n",
            "number of duplicate rows : 0\n",
            "\n",
            "number of missing values : \n",
            "Rank             0\n",
            "Team/NOC         0\n",
            "Gold             0\n",
            "Silver           0\n",
            "Bronze           0\n",
            "Total            0\n",
            "Rank by Total    0\n",
            "dtype: int64\n"
          ]
        }
      ]
    }
  ]
}